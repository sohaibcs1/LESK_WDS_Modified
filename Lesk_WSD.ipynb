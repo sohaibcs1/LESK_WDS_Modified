{
  "cells": [
    {
      "cell_type": "code",
      "execution_count": 1,
      "metadata": {
        "id": "zP5SGo5_w23g"
      },
      "outputs": [],
      "source": [
        "import nltk\n",
        "from nltk.corpus import wordnet as wn\n",
        "from nltk.stem import PorterStemmer\n",
        "from itertools import chain\n",
        "from nltk import pos_tag\n",
        "from sys import stdout\n",
        "from nltk.tokenize import sent_tokenize, word_tokenize\n",
        "from nltk.stem import WordNetLemmatizer\n",
        "# lemmatizer = WordNetLemmatizer()\n",
        "ps = PorterStemmer()"
      ]
    },
    {
      "cell_type": "code",
      "execution_count": 2,
      "metadata": {
        "colab": {
          "base_uri": "https://localhost:8080/"
        },
        "id": "bejiYqu2w8nC",
        "outputId": "c2be9021-3eab-43bc-f4f0-21cf05f03785"
      },
      "outputs": [
        {
          "name": "stderr",
          "output_type": "stream",
          "text": [
            "[nltk_data] Downloading package omw-1.4 to /root/nltk_data...\n"
          ]
        },
        {
          "data": {
            "text/plain": [
              "True"
            ]
          },
          "execution_count": 2,
          "metadata": {},
          "output_type": "execute_result"
        }
      ],
      "source": [
        "nltk.download('omw-1.4')"
      ]
    },
    {
      "cell_type": "code",
      "execution_count": 3,
      "metadata": {
        "colab": {
          "base_uri": "https://localhost:8080/"
        },
        "id": "8Ao_zy7RyuaQ",
        "outputId": "37dd6f25-52b2-4a4d-bf42-e5f535a0ad24"
      },
      "outputs": [
        {
          "name": "stderr",
          "output_type": "stream",
          "text": [
            "[nltk_data] Downloading package wordnet to /root/nltk_data...\n"
          ]
        },
        {
          "data": {
            "text/plain": [
              "True"
            ]
          },
          "execution_count": 3,
          "metadata": {},
          "output_type": "execute_result"
        }
      ],
      "source": [
        " nltk.download('wordnet')"
      ]
    },
    {
      "cell_type": "code",
      "execution_count": 4,
      "metadata": {
        "id": "7m4dEMJZykk9"
      },
      "outputs": [],
      "source": [
        "text = \"break cut run play make light clear draw give hold set fall take head pass call carry charge point catch check turn close get right cover lift line open go beat drive work roll drop place clean lead raise base blow heavy mark return back block strike good rise stock touch down slip snap keep round see sound square stick white crack direct flat follow order pull stand center dip form ground hit pitch post press settle shift short spread twist black, case, come, deal, face, free, hard, pack, pound, release, shoot, start, stop, support, swing, top, well dead, deep, develop, double, dress, field, fire, hot, jump, key, last, move, pick, step, straight, wash advance, burn, cast, change, control, discharge, fly, have, hook, reduce, sign, soft, spot, strain, stretch, tap, throw bar, breakup, dry, dull, flash, level, live, part, pop, rule, separate, strip address, bank, crash, end, figure, find, flip, flush, force, frame, hang, high, kill, land, loose, match, number, piece, position, present, quarter, rack, rest, rough, scale, score, service, shell, shot, solid, split, stamp, still, tender, tie active, bad, big, bound, drag, drift, exchange, extend, fair, feel, fix, home, job, leave, out, puff, range, register, regular, scratch, shock, slack, spike, squeeze, string, takein, train, trim, upset, walk, wild, yield balance, blast, blue, bolt, choke, cold, cross, crown, do, first, fit, float, foul, fret, hack, hand, issue, low, mean, model, offer, pickup, plate, ride, rush, seat, serve, show, smash, stay, stone, stroke, study, sweet, tight, track, waste act, air, answer, attack, band, bear, book, brush, bull, dark, easy, escape, fast, finish, flare, grain, grant, gray, hunt, lock, loop, master, name, pin, push, rail, represent, review, ring, root, screen, seal, second, section, setup, shake, sharp, sweep, time, tone, transfer, true, wind account, approach, away, bag, be, bond, bow, chip, cloud, color, colour, corner, court, design, die, draft, even, firm, flow, foot, freeze, game, green, guard, heave, house, hurt, jack, kick, life, load, look, march, mold, nose, opening, outside, pit, plug, port, project, raw, render, reverse, secret, shade, shaft, side, stall, stuff, subject, switch, takeout, think, tip, trace, up, wave, young ball, bare, beam, bed, better, bill, bite, board, box, brace, broken, c, card, condition, counter, course, credit, cutting, dig, dirty, express, fresh, front, full, gain, grade, grey, hall, joint, link, major, man, mate, measure, medium, meet, mind, mount, natural, note, patch, pole, positive, process, quiet, rank, reach, real, receive, report, rich, sack, seed, sink, small, spare, spin, splash, superior, takeup, taste, test, thick, thin, thrust, tumble, union, use, view, visit, voice, watch, way, wrong action, average, bang, bend, bitter, bob, body, bottom, bowl, bridge, build, burst, butt, camp, chain, collar, comeup, command, commission, contract, convert, cool, correct, count, crop, crush, cry, dash, date, defense, deliver, deposit, dissolve, division, dock, extension, feed, flag, flick, flight, floor, focus, fold, forward, giveup, glass, glow, help, hitch, horn, just, know, long, minor, miss, negative, net, passing, pay, picture, pinch, prime, proof, puddle, queen, read, recall, record, ruffle, ruin, save, say, shadow, silver, skin, smack, smooth, star, style, tack, tease, thing, title, tough, trade, trap, trip, trust, turnout, warm, weak, wear, wing, withdraw accept, ace, aim, begin, bell, bind, bit, bright, bring, cap, capital, capture, care, carrier, centre, channel, chop, circle, claim, click, clinch, clip, club, collapse, comeout, compound, concentrate, connect, contact, core, crab, cup, cycle, decline, defence, demand, exercise, fail, false, fill, flap, flux, gather, gauge, getoff, grass, grind, guide, heat, heel, hood, host, ice, image, intimate, irregular, jackson, jam, jerk, knock, lap, large, late, like, liquid, mass, mat, material, mature, mould, mouth, movement, new, notice, obscure, offset, operation, opposite, pad, pall, pile, plain, plaster, pocket, pool, power, prick, print, pump, question, radical, rag, rat, rear, reference, relief, relieve, reserve, resistance, resolution, retire, retreat, ridge, rig, running, secure, shape, shine, shower, slick, slow, so, soak, sour, source, spoil, spring, standard, state, stiff, stir, suffer, swallow, swell, tail, talk, transport, troll, trouble, upgrade, value, variation, wheel, whip, whistle, wide, wilson, word allow, alternate, apply, around, badly, bat, bay, belt, bid, blaze, blind, boom, border, bounce, brand, bust, canvass, cat, character, clap, clutch, combine, common, compact, company, complete, concord, content, continue, cradle, crank, curve, day, depression, digest, dim, distribute, divine, drink, dump, edge, edward, empty, engage, explode, expose, exposure, extract, factor, far, fine, flood, fox, function, general, gentle, grace, grand, grip, gross, grow, gum, hammer, heart, hole, idle, inactive, indifferent, inside, interest, introduce, james, king, knot, labor, lean, left, lie, little, living, lodge, lose, lost, love, maintain, makeout, mantle, moderate, nail, narrow, pace, paddle, panel, passage, pattern, peg, perch, plant, plunge, poke, pot, practice, program, projection, purge, put, puton, putout, race, radiate, rally, rap, ray, regard, regenerate, representation, romance, runner, scene, school, scrape, screw, share, sheet, single, sit, skim, slice, slide, slug, smell, smith, smoke, softness, space, spat, special, speed, spell, spill, spiral, spur, stage, stake, steady, stem, sting, stream, strong, submit, suit, sure, surface, tag, tongue, tramp, translate, tread, treat, try, under, undercut, vote, water, waver, weight, west, wish, yoke, zero\"\n",
        "text = text.replace(\",\", \"\")\n",
        "ambg_words = text.split()\n",
        "\n"
      ]
    },
    {
      "cell_type": "code",
      "execution_count": 5,
      "metadata": {
        "id": "wXF-H19sw-Td"
      },
      "outputs": [],
      "source": [
        "def lesk(context_sentence, ambiguous_word, pos=None, stem=True, hyperhypo=True):\n",
        "    max_overlaps = 0; lesk_sense = None\n",
        "    context_sentence = context_sentence.split()\n",
        "    for ss in wn.synsets(ambiguous_word):\n",
        "        # If POS is specified.\n",
        "        if pos and ss.pos is not pos:\n",
        "            continue\n",
        "\n",
        "        lesk_dictionary = []\n",
        "\n",
        "        # Includes definition.\n",
        "        lesk_dictionary+= ss.definition().split()\n",
        "        # Includes lemma_names.\n",
        "        lesk_dictionary+= ss.lemma_names()\n",
        "        # Optional: includes lemma_names of hypernyms and hyponyms.\n",
        "        if hyperhypo == True:\n",
        "            lesk_dictionary+= list(chain(*[i.lemma_names() for i in ss.hypernyms()+ss.hyponyms()]))       \n",
        "        if stem == True: # Matching exact words causes sparsity, so lets match stems.\n",
        "            lesk_dictionary = [ps.stem(i) for i in lesk_dictionary]\n",
        "            context_sentence = [ps.stem(i) for i in context_sentence] \n",
        "\n",
        "        overlaps = set(lesk_dictionary).intersection(context_sentence)\n",
        "\n",
        "        if len(overlaps) > max_overlaps:\n",
        "            lesk_sense = ss\n",
        "            max_overlaps = len(overlaps)\n",
        "    return lesk_sense"
      ]
    },
    {
      "cell_type": "code",
      "execution_count": 6,
      "metadata": {
        "id": "PquaVj_exAXa"
      },
      "outputs": [],
      "source": [
        "\n",
        "def call_lesk(ambg_sent):\n",
        "    n = len(ambg_sent)\n",
        "    for t in range(0,n):\n",
        "        s=0\n",
        "        for word in word_tokenize(ambg_sent[t]):\n",
        "            if ps.stem(word) in ambg_words:\n",
        "                s = s+1\n",
        "                print(\"Context:\",ambg_sent[t])\n",
        "                answer = lesk(ambg_sent[t],word)\n",
        "                print(\"Definition :\" ,('%s->' %word) , answer.definition())\n",
        "                print()\n",
        "        if s == 0:\n",
        "            print (\"Context:\", ambg_sent[t])\n",
        "            print (\"No Ambiguous word found in this sentence.\")\n",
        "    "
      ]
    },
    {
      "cell_type": "code",
      "execution_count": 7,
      "metadata": {
        "colab": {
          "base_uri": "https://localhost:8080/"
        },
        "id": "etCFLjwRxHyy",
        "outputId": "1f18f177-76a2-483b-8800-674c1dbdd89f"
      },
      "outputs": [
        {
          "name": "stderr",
          "output_type": "stream",
          "text": [
            "[nltk_data] Downloading package punkt to /root/nltk_data...\n",
            "[nltk_data]   Unzipping tokenizers/punkt.zip.\n"
          ]
        },
        {
          "data": {
            "text/plain": [
              "True"
            ]
          },
          "execution_count": 7,
          "metadata": {},
          "output_type": "execute_result"
        }
      ],
      "source": [
        "import nltk\n",
        "nltk.download('punkt')"
      ]
    },
    {
      "cell_type": "code",
      "execution_count": 77,
      "metadata": {
        "colab": {
          "base_uri": "https://localhost:8080/"
        },
        "id": "bT2yY98IxKSM",
        "outputId": "108513b5-7ccb-4dbc-c580-7deb6520138b"
      },
      "outputs": [
        {
          "name": "stdout",
          "output_type": "stream",
          "text": [
            "enter the textThe app Tab bars color are good\n",
            "Context: The app Tab bars color are good\n",
            "Definition : bars-> a narrow marking of a different color or texture from the background\n",
            "\n",
            "Context: The app Tab bars color are good\n",
            "Definition : color-> give a deceptive explanation or excuse for\n",
            "\n",
            "Context: The app Tab bars color are good\n",
            "Definition : good-> (often used as a combining form) in a good or proper or satisfactory manner or to a high standard (`good' is a nonstandard dialectal variant for `well')\n",
            "\n"
          ]
        }
      ],
      "source": [
        "ambg_sent = input(\"enter the text\")\n",
        "ambg_sent = sent_tokenize(ambg_sent)\n",
        "call_lesk(ambg_sent)\n"
      ]
    },
    {
      "cell_type": "markdown",
      "metadata": {
        "id": "rYqT4gCk8GY6"
      },
      "source": []
    },
    {
      "cell_type": "code",
      "execution_count": 16,
      "metadata": {
        "colab": {
          "base_uri": "https://localhost:8080/"
        },
        "id": "9VvH4vzm8bo2",
        "outputId": "59a83f79-5f89-4368-8c23-96cc8a54e6e9"
      },
      "outputs": [
        {
          "name": "stderr",
          "output_type": "stream",
          "text": [
            "[nltk_data] Downloading collection 'all'\n",
            "[nltk_data]    | \n",
            "[nltk_data]    | Downloading package abc to /root/nltk_data...\n",
            "[nltk_data]    |   Unzipping corpora/abc.zip.\n",
            "[nltk_data]    | Downloading package alpino to /root/nltk_data...\n",
            "[nltk_data]    |   Unzipping corpora/alpino.zip.\n",
            "[nltk_data]    | Downloading package averaged_perceptron_tagger to\n",
            "[nltk_data]    |     /root/nltk_data...\n",
            "[nltk_data]    |   Unzipping taggers/averaged_perceptron_tagger.zip.\n",
            "[nltk_data]    | Downloading package averaged_perceptron_tagger_ru to\n",
            "[nltk_data]    |     /root/nltk_data...\n",
            "[nltk_data]    |   Unzipping\n",
            "[nltk_data]    |       taggers/averaged_perceptron_tagger_ru.zip.\n",
            "[nltk_data]    | Downloading package basque_grammars to\n",
            "[nltk_data]    |     /root/nltk_data...\n",
            "[nltk_data]    |   Unzipping grammars/basque_grammars.zip.\n",
            "[nltk_data]    | Downloading package bcp47 to /root/nltk_data...\n",
            "[nltk_data]    | Downloading package biocreative_ppi to\n",
            "[nltk_data]    |     /root/nltk_data...\n",
            "[nltk_data]    |   Unzipping corpora/biocreative_ppi.zip.\n",
            "[nltk_data]    | Downloading package bllip_wsj_no_aux to\n",
            "[nltk_data]    |     /root/nltk_data...\n",
            "[nltk_data]    |   Unzipping models/bllip_wsj_no_aux.zip.\n",
            "[nltk_data]    | Downloading package book_grammars to\n",
            "[nltk_data]    |     /root/nltk_data...\n",
            "[nltk_data]    |   Unzipping grammars/book_grammars.zip.\n",
            "[nltk_data]    | Downloading package brown to /root/nltk_data...\n",
            "[nltk_data]    |   Unzipping corpora/brown.zip.\n",
            "[nltk_data]    | Downloading package brown_tei to /root/nltk_data...\n",
            "[nltk_data]    |   Unzipping corpora/brown_tei.zip.\n",
            "[nltk_data]    | Downloading package cess_cat to /root/nltk_data...\n",
            "[nltk_data]    |   Unzipping corpora/cess_cat.zip.\n",
            "[nltk_data]    | Downloading package cess_esp to /root/nltk_data...\n",
            "[nltk_data]    |   Unzipping corpora/cess_esp.zip.\n",
            "[nltk_data]    | Downloading package chat80 to /root/nltk_data...\n",
            "[nltk_data]    |   Unzipping corpora/chat80.zip.\n",
            "[nltk_data]    | Downloading package city_database to\n",
            "[nltk_data]    |     /root/nltk_data...\n",
            "[nltk_data]    |   Unzipping corpora/city_database.zip.\n",
            "[nltk_data]    | Downloading package cmudict to /root/nltk_data...\n",
            "[nltk_data]    |   Unzipping corpora/cmudict.zip.\n",
            "[nltk_data]    | Downloading package comparative_sentences to\n",
            "[nltk_data]    |     /root/nltk_data...\n",
            "[nltk_data]    |   Unzipping corpora/comparative_sentences.zip.\n",
            "[nltk_data]    | Downloading package comtrans to /root/nltk_data...\n",
            "[nltk_data]    | Downloading package conll2000 to /root/nltk_data...\n",
            "[nltk_data]    |   Unzipping corpora/conll2000.zip.\n",
            "[nltk_data]    | Downloading package conll2002 to /root/nltk_data...\n",
            "[nltk_data]    |   Unzipping corpora/conll2002.zip.\n",
            "[nltk_data]    | Downloading package conll2007 to /root/nltk_data...\n",
            "[nltk_data]    | Downloading package crubadan to /root/nltk_data...\n",
            "[nltk_data]    |   Unzipping corpora/crubadan.zip.\n",
            "[nltk_data]    | Downloading package dependency_treebank to\n",
            "[nltk_data]    |     /root/nltk_data...\n",
            "[nltk_data]    |   Unzipping corpora/dependency_treebank.zip.\n",
            "[nltk_data]    | Downloading package dolch to /root/nltk_data...\n",
            "[nltk_data]    |   Unzipping corpora/dolch.zip.\n",
            "[nltk_data]    | Downloading package europarl_raw to\n",
            "[nltk_data]    |     /root/nltk_data...\n",
            "[nltk_data]    |   Unzipping corpora/europarl_raw.zip.\n",
            "[nltk_data]    | Downloading package extended_omw to\n",
            "[nltk_data]    |     /root/nltk_data...\n",
            "[nltk_data]    | Downloading package floresta to /root/nltk_data...\n",
            "[nltk_data]    |   Unzipping corpora/floresta.zip.\n",
            "[nltk_data]    | Downloading package framenet_v15 to\n",
            "[nltk_data]    |     /root/nltk_data...\n",
            "[nltk_data]    |   Unzipping corpora/framenet_v15.zip.\n",
            "[nltk_data]    | Downloading package framenet_v17 to\n",
            "[nltk_data]    |     /root/nltk_data...\n",
            "[nltk_data]    |   Unzipping corpora/framenet_v17.zip.\n",
            "[nltk_data]    | Downloading package gazetteers to /root/nltk_data...\n",
            "[nltk_data]    |   Unzipping corpora/gazetteers.zip.\n",
            "[nltk_data]    | Downloading package genesis to /root/nltk_data...\n",
            "[nltk_data]    |   Unzipping corpora/genesis.zip.\n",
            "[nltk_data]    | Downloading package gutenberg to /root/nltk_data...\n",
            "[nltk_data]    |   Unzipping corpora/gutenberg.zip.\n",
            "[nltk_data]    | Downloading package ieer to /root/nltk_data...\n",
            "[nltk_data]    |   Unzipping corpora/ieer.zip.\n",
            "[nltk_data]    | Downloading package inaugural to /root/nltk_data...\n",
            "[nltk_data]    |   Unzipping corpora/inaugural.zip.\n",
            "[nltk_data]    | Downloading package indian to /root/nltk_data...\n",
            "[nltk_data]    |   Unzipping corpora/indian.zip.\n",
            "[nltk_data]    | Downloading package jeita to /root/nltk_data...\n",
            "[nltk_data]    | Downloading package kimmo to /root/nltk_data...\n",
            "[nltk_data]    |   Unzipping corpora/kimmo.zip.\n",
            "[nltk_data]    | Downloading package knbc to /root/nltk_data...\n",
            "[nltk_data]    | Downloading package large_grammars to\n",
            "[nltk_data]    |     /root/nltk_data...\n",
            "[nltk_data]    |   Unzipping grammars/large_grammars.zip.\n",
            "[nltk_data]    | Downloading package lin_thesaurus to\n",
            "[nltk_data]    |     /root/nltk_data...\n",
            "[nltk_data]    |   Unzipping corpora/lin_thesaurus.zip.\n",
            "[nltk_data]    | Downloading package mac_morpho to /root/nltk_data...\n",
            "[nltk_data]    |   Unzipping corpora/mac_morpho.zip.\n",
            "[nltk_data]    | Downloading package machado to /root/nltk_data...\n",
            "[nltk_data]    | Downloading package masc_tagged to /root/nltk_data...\n",
            "[nltk_data]    | Downloading package maxent_ne_chunker to\n",
            "[nltk_data]    |     /root/nltk_data...\n",
            "[nltk_data]    |   Unzipping chunkers/maxent_ne_chunker.zip.\n",
            "[nltk_data]    | Downloading package maxent_treebank_pos_tagger to\n",
            "[nltk_data]    |     /root/nltk_data...\n",
            "[nltk_data]    |   Unzipping taggers/maxent_treebank_pos_tagger.zip.\n",
            "[nltk_data]    | Downloading package moses_sample to\n",
            "[nltk_data]    |     /root/nltk_data...\n",
            "[nltk_data]    |   Unzipping models/moses_sample.zip.\n",
            "[nltk_data]    | Downloading package movie_reviews to\n",
            "[nltk_data]    |     /root/nltk_data...\n",
            "[nltk_data]    |   Unzipping corpora/movie_reviews.zip.\n",
            "[nltk_data]    | Downloading package mte_teip5 to /root/nltk_data...\n",
            "[nltk_data]    |   Unzipping corpora/mte_teip5.zip.\n",
            "[nltk_data]    | Downloading package mwa_ppdb to /root/nltk_data...\n",
            "[nltk_data]    |   Unzipping misc/mwa_ppdb.zip.\n",
            "[nltk_data]    | Downloading package names to /root/nltk_data...\n",
            "[nltk_data]    |   Unzipping corpora/names.zip.\n",
            "[nltk_data]    | Downloading package nombank.1.0 to /root/nltk_data...\n",
            "[nltk_data]    | Downloading package nonbreaking_prefixes to\n",
            "[nltk_data]    |     /root/nltk_data...\n",
            "[nltk_data]    |   Unzipping corpora/nonbreaking_prefixes.zip.\n",
            "[nltk_data]    | Downloading package nps_chat to /root/nltk_data...\n",
            "[nltk_data]    |   Unzipping corpora/nps_chat.zip.\n",
            "[nltk_data]    | Downloading package omw to /root/nltk_data...\n",
            "[nltk_data]    | Downloading package omw-1.4 to /root/nltk_data...\n",
            "[nltk_data]    |   Package omw-1.4 is already up-to-date!\n",
            "[nltk_data]    | Downloading package opinion_lexicon to\n",
            "[nltk_data]    |     /root/nltk_data...\n",
            "[nltk_data]    |   Unzipping corpora/opinion_lexicon.zip.\n",
            "[nltk_data]    | Downloading package panlex_swadesh to\n",
            "[nltk_data]    |     /root/nltk_data...\n",
            "[nltk_data]    | Downloading package paradigms to /root/nltk_data...\n",
            "[nltk_data]    |   Unzipping corpora/paradigms.zip.\n",
            "[nltk_data]    | Downloading package pe08 to /root/nltk_data...\n",
            "[nltk_data]    |   Unzipping corpora/pe08.zip.\n",
            "[nltk_data]    | Downloading package perluniprops to\n",
            "[nltk_data]    |     /root/nltk_data...\n",
            "[nltk_data]    |   Unzipping misc/perluniprops.zip.\n",
            "[nltk_data]    | Downloading package pil to /root/nltk_data...\n",
            "[nltk_data]    |   Unzipping corpora/pil.zip.\n",
            "[nltk_data]    | Downloading package pl196x to /root/nltk_data...\n",
            "[nltk_data]    |   Unzipping corpora/pl196x.zip.\n",
            "[nltk_data]    | Downloading package porter_test to /root/nltk_data...\n",
            "[nltk_data]    |   Unzipping stemmers/porter_test.zip.\n",
            "[nltk_data]    | Downloading package ppattach to /root/nltk_data...\n",
            "[nltk_data]    |   Unzipping corpora/ppattach.zip.\n",
            "[nltk_data]    | Downloading package problem_reports to\n",
            "[nltk_data]    |     /root/nltk_data...\n",
            "[nltk_data]    |   Unzipping corpora/problem_reports.zip.\n",
            "[nltk_data]    | Downloading package product_reviews_1 to\n",
            "[nltk_data]    |     /root/nltk_data...\n",
            "[nltk_data]    |   Unzipping corpora/product_reviews_1.zip.\n",
            "[nltk_data]    | Downloading package product_reviews_2 to\n",
            "[nltk_data]    |     /root/nltk_data...\n",
            "[nltk_data]    |   Unzipping corpora/product_reviews_2.zip.\n",
            "[nltk_data]    | Downloading package propbank to /root/nltk_data...\n",
            "[nltk_data]    | Downloading package pros_cons to /root/nltk_data...\n",
            "[nltk_data]    |   Unzipping corpora/pros_cons.zip.\n",
            "[nltk_data]    | Downloading package ptb to /root/nltk_data...\n",
            "[nltk_data]    |   Unzipping corpora/ptb.zip.\n",
            "[nltk_data]    | Downloading package punkt to /root/nltk_data...\n",
            "[nltk_data]    |   Package punkt is already up-to-date!\n",
            "[nltk_data]    | Downloading package qc to /root/nltk_data...\n",
            "[nltk_data]    |   Unzipping corpora/qc.zip.\n",
            "[nltk_data]    | Downloading package reuters to /root/nltk_data...\n",
            "[nltk_data]    | Downloading package rslp to /root/nltk_data...\n",
            "[nltk_data]    |   Unzipping stemmers/rslp.zip.\n",
            "[nltk_data]    | Downloading package rte to /root/nltk_data...\n",
            "[nltk_data]    |   Unzipping corpora/rte.zip.\n",
            "[nltk_data]    | Downloading package sample_grammars to\n",
            "[nltk_data]    |     /root/nltk_data...\n",
            "[nltk_data]    |   Unzipping grammars/sample_grammars.zip.\n",
            "[nltk_data]    | Downloading package semcor to /root/nltk_data...\n",
            "[nltk_data]    | Downloading package senseval to /root/nltk_data...\n",
            "[nltk_data]    |   Unzipping corpora/senseval.zip.\n",
            "[nltk_data]    | Downloading package sentence_polarity to\n",
            "[nltk_data]    |     /root/nltk_data...\n",
            "[nltk_data]    |   Unzipping corpora/sentence_polarity.zip.\n",
            "[nltk_data]    | Downloading package sentiwordnet to\n",
            "[nltk_data]    |     /root/nltk_data...\n",
            "[nltk_data]    |   Unzipping corpora/sentiwordnet.zip.\n",
            "[nltk_data]    | Downloading package shakespeare to /root/nltk_data...\n",
            "[nltk_data]    |   Unzipping corpora/shakespeare.zip.\n",
            "[nltk_data]    | Downloading package sinica_treebank to\n",
            "[nltk_data]    |     /root/nltk_data...\n",
            "[nltk_data]    |   Unzipping corpora/sinica_treebank.zip.\n",
            "[nltk_data]    | Downloading package smultron to /root/nltk_data...\n",
            "[nltk_data]    |   Unzipping corpora/smultron.zip.\n",
            "[nltk_data]    | Downloading package snowball_data to\n",
            "[nltk_data]    |     /root/nltk_data...\n",
            "[nltk_data]    | Downloading package spanish_grammars to\n",
            "[nltk_data]    |     /root/nltk_data...\n",
            "[nltk_data]    |   Unzipping grammars/spanish_grammars.zip.\n",
            "[nltk_data]    | Downloading package state_union to /root/nltk_data...\n",
            "[nltk_data]    |   Unzipping corpora/state_union.zip.\n",
            "[nltk_data]    | Downloading package stopwords to /root/nltk_data...\n",
            "[nltk_data]    |   Unzipping corpora/stopwords.zip.\n",
            "[nltk_data]    | Downloading package subjectivity to\n",
            "[nltk_data]    |     /root/nltk_data...\n",
            "[nltk_data]    |   Unzipping corpora/subjectivity.zip.\n",
            "[nltk_data]    | Downloading package swadesh to /root/nltk_data...\n",
            "[nltk_data]    |   Unzipping corpora/swadesh.zip.\n",
            "[nltk_data]    | Downloading package switchboard to /root/nltk_data...\n",
            "[nltk_data]    |   Unzipping corpora/switchboard.zip.\n",
            "[nltk_data]    | Downloading package tagsets to /root/nltk_data...\n",
            "[nltk_data]    |   Unzipping help/tagsets.zip.\n",
            "[nltk_data]    | Downloading package timit to /root/nltk_data...\n",
            "[nltk_data]    |   Unzipping corpora/timit.zip.\n",
            "[nltk_data]    | Downloading package toolbox to /root/nltk_data...\n",
            "[nltk_data]    |   Unzipping corpora/toolbox.zip.\n",
            "[nltk_data]    | Downloading package treebank to /root/nltk_data...\n",
            "[nltk_data]    |   Unzipping corpora/treebank.zip.\n",
            "[nltk_data]    | Downloading package twitter_samples to\n",
            "[nltk_data]    |     /root/nltk_data...\n",
            "[nltk_data]    |   Unzipping corpora/twitter_samples.zip.\n",
            "[nltk_data]    | Downloading package udhr to /root/nltk_data...\n",
            "[nltk_data]    |   Unzipping corpora/udhr.zip.\n",
            "[nltk_data]    | Downloading package udhr2 to /root/nltk_data...\n",
            "[nltk_data]    |   Unzipping corpora/udhr2.zip.\n",
            "[nltk_data]    | Downloading package unicode_samples to\n",
            "[nltk_data]    |     /root/nltk_data...\n",
            "[nltk_data]    |   Unzipping corpora/unicode_samples.zip.\n",
            "[nltk_data]    | Downloading package universal_tagset to\n",
            "[nltk_data]    |     /root/nltk_data...\n",
            "[nltk_data]    |   Unzipping taggers/universal_tagset.zip.\n",
            "[nltk_data]    | Downloading package universal_treebanks_v20 to\n",
            "[nltk_data]    |     /root/nltk_data...\n",
            "[nltk_data]    | Downloading package vader_lexicon to\n",
            "[nltk_data]    |     /root/nltk_data...\n",
            "[nltk_data]    | Downloading package verbnet to /root/nltk_data...\n",
            "[nltk_data]    |   Unzipping corpora/verbnet.zip.\n",
            "[nltk_data]    | Downloading package verbnet3 to /root/nltk_data...\n",
            "[nltk_data]    |   Unzipping corpora/verbnet3.zip.\n",
            "[nltk_data]    | Downloading package webtext to /root/nltk_data...\n",
            "[nltk_data]    |   Unzipping corpora/webtext.zip.\n",
            "[nltk_data]    | Downloading package wmt15_eval to /root/nltk_data...\n",
            "[nltk_data]    |   Unzipping models/wmt15_eval.zip.\n",
            "[nltk_data]    | Downloading package word2vec_sample to\n",
            "[nltk_data]    |     /root/nltk_data...\n",
            "[nltk_data]    |   Unzipping models/word2vec_sample.zip.\n",
            "[nltk_data]    | Downloading package wordnet to /root/nltk_data...\n",
            "[nltk_data]    |   Package wordnet is already up-to-date!\n",
            "[nltk_data]    | Downloading package wordnet2021 to /root/nltk_data...\n",
            "[nltk_data]    | Downloading package wordnet2022 to /root/nltk_data...\n",
            "[nltk_data]    |   Unzipping corpora/wordnet2022.zip.\n",
            "[nltk_data]    | Downloading package wordnet31 to /root/nltk_data...\n",
            "[nltk_data]    | Downloading package wordnet_ic to /root/nltk_data...\n",
            "[nltk_data]    |   Unzipping corpora/wordnet_ic.zip.\n",
            "[nltk_data]    | Downloading package words to /root/nltk_data...\n",
            "[nltk_data]    |   Unzipping corpora/words.zip.\n",
            "[nltk_data]    | Downloading package ycoe to /root/nltk_data...\n",
            "[nltk_data]    |   Unzipping corpora/ycoe.zip.\n",
            "[nltk_data]    | \n",
            "[nltk_data]  Done downloading collection all\n"
          ]
        }
      ],
      "source": [
        "\n",
        "%%capture\n",
        "import nltk\n",
        "from nltk.wsd import lesk\n",
        "from nltk.tokenize import word_tokenize\n",
        "nltk.download('all')"
      ]
    },
    {
      "cell_type": "code",
      "execution_count": 17,
      "metadata": {
        "id": "0i_qPinq8Gk9"
      },
      "outputs": [],
      "source": [
        "\n",
        "def get_semantic(seq, key_word):\n",
        "    \n",
        "      # Tokenization of the sequence\n",
        "    temp = word_tokenize(seq)\n",
        "      \n",
        "    # Retrieving the definition \n",
        "    # of the tokens\n",
        "    temp = lesk(temp, key_word)\n",
        "    return temp.definition()"
      ]
    },
    {
      "cell_type": "code",
      "execution_count": 73,
      "metadata": {
        "colab": {
          "base_uri": "https://localhost:8080/"
        },
        "id": "7eDr80s28GtM",
        "outputId": "785d6852-4d39-40eb-fea1-eea228679b0b"
      },
      "outputs": [
        {
          "name": "stdout",
          "output_type": "stream",
          "text": [
            "a narrow marking of a different color or texture from the background\n",
            "the body of individuals qualified to practice law in a particular jurisdiction\n"
          ]
        }
      ],
      "source": [
        "keyword = 'bar'\n",
        "seq1 = 'The app Tab bar color are good'\n",
        "seq2 = 'The text in the logo is unreadable, and the final look is offensive to our religion and law bars it'\n",
        "\n",
        "# The text in the logo is unreadable, and the final look is offensive to our religion and law bars it\n",
        "# seq1 = 'Your application colors are awesome.I love reading books on coding. '\n",
        "# seq2 = 'The table was already booked by someone else.'\n",
        "\n",
        "\n",
        "  \n",
        "print(get_semantic(seq1, keyword))\n",
        "print(get_semantic(seq2, keyword))"
      ]
    }
  ],
  "metadata": {
    "colab": {
      "provenance": []
    },
    "kernelspec": {
      "display_name": "Python 3",
      "name": "python3"
    },
    "language_info": {
      "name": "python"
    }
  },
  "nbformat": 4,
  "nbformat_minor": 0
}
